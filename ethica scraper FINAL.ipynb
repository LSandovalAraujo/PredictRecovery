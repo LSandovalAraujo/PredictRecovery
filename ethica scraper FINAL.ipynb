{
 "cells": [
  {
   "cell_type": "code",
   "execution_count": 1,
   "metadata": {},
   "outputs": [],
   "source": [
    "###\n",
    "#This script is to scrape the times that a participant OPENED an EMA survey\n",
    "#The Ethica data export only includes the time that a participant completes a survey, which may not be useful\n",
    "#We are particularly interested in when a participant STARTED EMA, resulting in a need to grab timestamps\n",
    "###\n",
    "\n",
    "#selenium for being able to browse the site while loading the JavaScript it uses\n",
    "#pandas for putting the scraped data into a data frame\n",
    "\n",
    "import selenium\n",
    "import time\n",
    "from selenium import webdriver\n",
    "from selenium.webdriver.common.keys import Keys\n",
    "import requests\n",
    "import numpy as np\n",
    "import pandas as pd"
   ]
  },
  {
   "cell_type": "code",
   "execution_count": 2,
   "metadata": {},
   "outputs": [],
   "source": [
    "#Getting a browser that can get to Ethica's JavaScript page\n",
    "#You will need to download the driver at https://selenium-python.readthedocs.io/installation.html#drivers\n",
    "#Once downloaded, extract the file and save the .exe in your file path for python\n",
    "#You can find the path using:\n",
    "\n",
    "#import os\n",
    "#import sys\n",
    "#os.path.dirname(sys.executable)\n",
    "    \n",
    "driver = webdriver.Chrome()\n",
    "\n",
    "driver.get(\"http://www.google.com/\")\n",
    "time.sleep(1)\n",
    "#chrome_options = webdriver.ChromeOptions()\n",
    "#chrome_options.add_argument(\"--incognito\")\n",
    "\n",
    "#driver.get('https://google.com')"
   ]
  },
  {
   "cell_type": "code",
   "execution_count": 3,
   "metadata": {},
   "outputs": [],
   "source": [
    "driver.get(\"https://ethicadata.com/app/dashboard/auth/sign-in\")\n",
    "\n",
    "\n",
    "#For some reason, on occasion this won't log in when running the code straight up, but when running this cell again it works...\n",
    "#Remember to input your username and password in this cell - I've removed the lab's credentials for obvious security reasons\n",
    "driver.find_element_by_name(\"username\").send_keys(\"EMAIL@WHATEVER.COM\")\n",
    "driver.find_element_by_name(\"password\").send_keys(\"PUTYOURPASSWORDHERE\")\n",
    "driver.find_element_by_class_name(\"jss48\").click()"
   ]
  },
  {
   "cell_type": "code",
   "execution_count": 4,
   "metadata": {},
   "outputs": [
    {
     "data": {
      "text/html": [
       "<div>\n",
       "<style scoped>\n",
       "    .dataframe tbody tr th:only-of-type {\n",
       "        vertical-align: middle;\n",
       "    }\n",
       "\n",
       "    .dataframe tbody tr th {\n",
       "        vertical-align: top;\n",
       "    }\n",
       "\n",
       "    .dataframe thead th {\n",
       "        text-align: right;\n",
       "    }\n",
       "</style>\n",
       "<table border=\"1\" class=\"dataframe\">\n",
       "  <thead>\n",
       "    <tr style=\"text-align: right;\">\n",
       "      <th></th>\n",
       "      <th>ethica_id</th>\n",
       "    </tr>\n",
       "    <tr>\n",
       "      <th>study_id</th>\n",
       "      <th></th>\n",
       "    </tr>\n",
       "  </thead>\n",
       "  <tbody>\n",
       "    <tr>\n",
       "      <th>PR001</th>\n",
       "      <td>31632.0</td>\n",
       "    </tr>\n",
       "    <tr>\n",
       "      <th>PR003</th>\n",
       "      <td>32155.0</td>\n",
       "    </tr>\n",
       "    <tr>\n",
       "      <th>PR008</th>\n",
       "      <td>25611.0</td>\n",
       "    </tr>\n",
       "    <tr>\n",
       "      <th>PR007</th>\n",
       "      <td>32811.0</td>\n",
       "    </tr>\n",
       "    <tr>\n",
       "      <th>PR010</th>\n",
       "      <td>33803.0</td>\n",
       "    </tr>\n",
       "    <tr>\n",
       "      <th>...</th>\n",
       "      <td>...</td>\n",
       "    </tr>\n",
       "    <tr>\n",
       "      <th>PR107</th>\n",
       "      <td>NaN</td>\n",
       "    </tr>\n",
       "    <tr>\n",
       "      <th>PR109</th>\n",
       "      <td>NaN</td>\n",
       "    </tr>\n",
       "    <tr>\n",
       "      <th>PR111</th>\n",
       "      <td>NaN</td>\n",
       "    </tr>\n",
       "    <tr>\n",
       "      <th>PR110</th>\n",
       "      <td>NaN</td>\n",
       "    </tr>\n",
       "    <tr>\n",
       "      <th>PR106</th>\n",
       "      <td>NaN</td>\n",
       "    </tr>\n",
       "  </tbody>\n",
       "</table>\n",
       "<p>65 rows × 1 columns</p>\n",
       "</div>"
      ],
      "text/plain": [
       "          ethica_id\n",
       "study_id           \n",
       "PR001       31632.0\n",
       "PR003       32155.0\n",
       "PR008       25611.0\n",
       "PR007       32811.0\n",
       "PR010       33803.0\n",
       "...             ...\n",
       "PR107           NaN\n",
       "PR109           NaN\n",
       "PR111           NaN\n",
       "PR110           NaN\n",
       "PR106           NaN\n",
       "\n",
       "[65 rows x 1 columns]"
      ]
     },
     "execution_count": 4,
     "metadata": {},
     "output_type": "execute_result"
    }
   ],
   "source": [
    "#This cell pulls a CSV that contains our participant's study IDs and their respective Ethica ID assigned by Ethica\n",
    "#Need to make sure the file path matches where the \"Ethica IDs.csv\" file is\n",
    "\n",
    "ids_df = pd.read_csv(r\"C:\\Users\\Luis\\Box\\R15 Sensor Preprocessing and Analysis\\Data\\Ethica IDs.csv\", index_col = [0])\n",
    "ids_df"
   ]
  },
  {
   "cell_type": "code",
   "execution_count": 5,
   "metadata": {},
   "outputs": [
    {
     "name": "stdout",
     "output_type": "stream",
     "text": [
      "Please type in the study ID for this participant.\n",
      "PR025\n"
     ]
    }
   ],
   "source": [
    "#Could probably automate this...\n",
    "#Input the participant's ID that you're interested in and it will read the prior .csv to grab their Ethica ID\n",
    "print(\"Please type in the study ID for this participant.\")\n",
    "study_id = input()"
   ]
  },
  {
   "cell_type": "code",
   "execution_count": 6,
   "metadata": {},
   "outputs": [
    {
     "data": {
      "text/plain": [
       "'29724'"
      ]
     },
     "execution_count": 6,
     "metadata": {},
     "output_type": "execute_result"
    }
   ],
   "source": [
    "#Turning the ID into a string\n",
    "ethica_id = ids_df.loc[study_id].values[0]\n",
    "ethica_id = int(ethica_id)\n",
    "ethica_id = str(ethica_id)\n",
    "ethica_id"
   ]
  },
  {
   "cell_type": "code",
   "execution_count": 7,
   "metadata": {},
   "outputs": [],
   "source": [
    "#URL for getting participants timestamps for opening the survey, eventIDs=200 is events where a participant opened a survey\n",
    "driver.get(\"https://ethicadata.com/app/dashboard/rdash/study/1287/phr/?dateFrom&dateTo&eventIds=200&participantIds=\" + ethica_id)\n",
    "time.sleep(3)"
   ]
  },
  {
   "cell_type": "code",
   "execution_count": 8,
   "metadata": {
    "scrolled": false
   },
   "outputs": [],
   "source": [
    "#grabbing web elements for the next part\n",
    "timestamps = driver.find_elements_by_xpath('//*[@id=\"root\"]/div/div[3]/div[2]/div/div/div[2]/div[2]/div/div/div/div/div[2]/div/*/div/div[1]')\n",
    "ethScroll = driver.find_element_by_xpath('//*[@id=\"root\"]/div/div[3]/div[2]/div/div/div[2]/div[2]/div/div/div/div/div[2]')\n"
   ]
  },
  {
   "cell_type": "code",
   "execution_count": 9,
   "metadata": {},
   "outputs": [],
   "source": [
    "#This portion of code is what's pulling the timestamps.\n",
    "#It's a little slow because it needs to retain the elements in memory\n",
    "#1 second sleep was too low, 2 second sleep seems to work. Could probably test and reduce. \n",
    "#I could probably also make it automatically stop once it's reached the bottom of the page, but alas\n",
    "\n",
    "timestamp_text = []\n",
    "\n",
    "for x in range(0,20):\n",
    "    timestamps = driver.find_elements_by_xpath('//*[@id=\"root\"]/div/div[3]/div[2]/div/div/div[2]/div[2]/div/div/div/div/div[2]/div/*/div/div[1]')\n",
    "    time.sleep(2)\n",
    "    for stamps in timestamps:\n",
    "        timestamp_text.append(stamps.text)\n",
    "    driver.execute_script(\"arguments[0].scrollBy(0, 500)\", ethScroll)\n",
    "\n"
   ]
  },
  {
   "cell_type": "code",
   "execution_count": 10,
   "metadata": {},
   "outputs": [
    {
     "data": {
      "text/html": [
       "<div>\n",
       "<style scoped>\n",
       "    .dataframe tbody tr th:only-of-type {\n",
       "        vertical-align: middle;\n",
       "    }\n",
       "\n",
       "    .dataframe tbody tr th {\n",
       "        vertical-align: top;\n",
       "    }\n",
       "\n",
       "    .dataframe thead th {\n",
       "        text-align: right;\n",
       "    }\n",
       "</style>\n",
       "<table border=\"1\" class=\"dataframe\">\n",
       "  <thead>\n",
       "    <tr style=\"text-align: right;\">\n",
       "      <th></th>\n",
       "      <th>0</th>\n",
       "    </tr>\n",
       "  </thead>\n",
       "  <tbody>\n",
       "    <tr>\n",
       "      <th>0</th>\n",
       "      <td>Jan. 14, 2021 09:58</td>\n",
       "    </tr>\n",
       "    <tr>\n",
       "      <th>1</th>\n",
       "      <td>Jan. 13, 2021 19:00</td>\n",
       "    </tr>\n",
       "    <tr>\n",
       "      <th>3</th>\n",
       "      <td>Jan. 13, 2021 14:39</td>\n",
       "    </tr>\n",
       "    <tr>\n",
       "      <th>4</th>\n",
       "      <td>Jan. 13, 2021 12:45</td>\n",
       "    </tr>\n",
       "    <tr>\n",
       "      <th>5</th>\n",
       "      <td>Jan. 13, 2021 09:11</td>\n",
       "    </tr>\n",
       "    <tr>\n",
       "      <th>...</th>\n",
       "      <td>...</td>\n",
       "    </tr>\n",
       "    <tr>\n",
       "      <th>265</th>\n",
       "      <td>Dec. 16, 2020 10:50</td>\n",
       "    </tr>\n",
       "    <tr>\n",
       "      <th>267</th>\n",
       "      <td>Dec. 15, 2020 17:33</td>\n",
       "    </tr>\n",
       "    <tr>\n",
       "      <th>269</th>\n",
       "      <td>Dec. 15, 2020 15:49</td>\n",
       "    </tr>\n",
       "    <tr>\n",
       "      <th>270</th>\n",
       "      <td>Dec. 15, 2020 13:11</td>\n",
       "    </tr>\n",
       "    <tr>\n",
       "      <th>285</th>\n",
       "      <td>Dec. 15, 2020 09:11</td>\n",
       "    </tr>\n",
       "  </tbody>\n",
       "</table>\n",
       "<p>116 rows × 1 columns</p>\n",
       "</div>"
      ],
      "text/plain": [
       "                       0\n",
       "0    Jan. 14, 2021 09:58\n",
       "1    Jan. 13, 2021 19:00\n",
       "3    Jan. 13, 2021 14:39\n",
       "4    Jan. 13, 2021 12:45\n",
       "5    Jan. 13, 2021 09:11\n",
       "..                   ...\n",
       "265  Dec. 16, 2020 10:50\n",
       "267  Dec. 15, 2020 17:33\n",
       "269  Dec. 15, 2020 15:49\n",
       "270  Dec. 15, 2020 13:11\n",
       "285  Dec. 15, 2020 09:11\n",
       "\n",
       "[116 rows x 1 columns]"
      ]
     },
     "execution_count": 10,
     "metadata": {},
     "output_type": "execute_result"
    }
   ],
   "source": [
    "#Just creating a data frame here and removing duplicate cases\n",
    "#tbh could probably simplify this into one line \n",
    "timestamp_df = pd.DataFrame(np.array(timestamp_text))\n",
    "timestamp_df = timestamp_df.drop_duplicates()\n",
    "\n",
    "timestamp_df"
   ]
  },
  {
   "cell_type": "code",
   "execution_count": 11,
   "metadata": {},
   "outputs": [],
   "source": [
    "#timestamp_df.to_csv('C:\\Users\\astech\\Empatica Data\\ID PR*\\timestamps.csv', index=False)\n",
    "#Saving to a CSV - I definitely re-wrote this line to pull the ID from the study_id input but apparently not on this notebook.\n",
    "\n",
    "timestamp_df.to_csv('C:/Users/Luis/Desktop/ID PR###/timestamps.csv', index=False)"
   ]
  }
 ],
 "metadata": {
  "authors": [
   {
    "name": "Luis E. Sandoval-Araujo"
   }
  ],
  "kernelspec": {
   "display_name": "Python 3",
   "language": "python",
   "name": "python3"
  },
  "language_info": {
   "codemirror_mode": {
    "name": "ipython",
    "version": 3
   },
   "file_extension": ".py",
   "mimetype": "text/x-python",
   "name": "python",
   "nbconvert_exporter": "python",
   "pygments_lexer": "ipython3",
   "version": "3.8.5"
  },
  "title": "Ethica Scraper"
 },
 "nbformat": 4,
 "nbformat_minor": 4
}
